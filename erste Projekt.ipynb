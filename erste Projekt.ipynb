{
 "cells": [
  {
   "cell_type": "markdown",
   "id": "6daead06-0097-417d-9dc9-dc024af167fd",
   "metadata": {},
   "source": [
    "Mahmoud Elbaiomey\n",
    "25"
   ]
  },
  {
   "cell_type": "code",
   "execution_count": 2,
   "id": "d319c415-7d99-4fb0-85d5-5d328e97ca8c",
   "metadata": {},
   "outputs": [
    {
     "name": "stdout",
     "output_type": "stream",
     "text": [
      "My Name is Mahmoud Elbaiomey and my age is 25\n"
     ]
    }
   ],
   "source": [
    "with open(\"info.txt\", \"w\") as file:\n",
    "    file.write(\"Mahmoud Elbaiomey\\n\")\n",
    "    file.write(\"25\\n\")\n",
    "\n",
    "# Step 2.2: Read the file and store the contents in variables\n",
    "with open(\"info.txt\", \"r\") as file:\n",
    "    lines = file.readlines()\n",
    "    name = lines[0].strip()\n",
    "    age = lines[1].strip()\n",
    "\n",
    "# Step 2.3: Print the message\n",
    "print(f\"My Name is {name} and my age is {age}\")"
   ]
  }
 ],
 "metadata": {
  "kernelspec": {
   "display_name": "Python 3 (ipykernel)",
   "language": "python",
   "name": "python3"
  },
  "language_info": {
   "codemirror_mode": {
    "name": "ipython",
    "version": 3
   },
   "file_extension": ".py",
   "mimetype": "text/x-python",
   "name": "python",
   "nbconvert_exporter": "python",
   "pygments_lexer": "ipython3",
   "version": "3.9.19"
  }
 },
 "nbformat": 4,
 "nbformat_minor": 5
}
